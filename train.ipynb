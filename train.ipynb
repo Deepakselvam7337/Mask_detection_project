{
 "cells": [
  {
   "cell_type": "code",
   "execution_count": 2,
   "id": "c542bcd0-b849-4a5d-a6d0-3b780a1680b5",
   "metadata": {},
   "outputs": [
    {
     "name": "stdout",
     "output_type": "stream",
     "text": [
      "Requirement already satisfied: opencv-python in c:\\users\\deepa\\appdata\\local\\programs\\python\\python310\\lib\\site-packages (4.8.0.76)\n",
      "Requirement already satisfied: numpy>=1.21.2 in c:\\users\\deepa\\appdata\\local\\programs\\python\\python310\\lib\\site-packages (from opencv-python) (1.25.2)\n"
     ]
    }
   ],
   "source": [
    "! pip install opencv-python"
   ]
  },
  {
   "cell_type": "code",
   "execution_count": 7,
   "id": "f44c53c2-6c80-4a2e-9cb6-2d8a4d7d12f6",
   "metadata": {},
   "outputs": [
    {
     "name": "stdout",
     "output_type": "stream",
     "text": [
      "Requirement already satisfied: scikit-learn in c:\\users\\deepa\\appdata\\local\\programs\\python\\python310\\lib\\site-packages (1.3.0)\n",
      "Requirement already satisfied: numpy>=1.17.3 in c:\\users\\deepa\\appdata\\local\\programs\\python\\python310\\lib\\site-packages (from scikit-learn) (1.25.2)\n",
      "Requirement already satisfied: scipy>=1.5.0 in c:\\users\\deepa\\appdata\\local\\programs\\python\\python310\\lib\\site-packages (from scikit-learn) (1.11.2)\n",
      "Requirement already satisfied: joblib>=1.1.1 in c:\\users\\deepa\\appdata\\local\\programs\\python\\python310\\lib\\site-packages (from scikit-learn) (1.3.2)\n",
      "Requirement already satisfied: threadpoolctl>=2.0.0 in c:\\users\\deepa\\appdata\\local\\programs\\python\\python310\\lib\\site-packages (from scikit-learn) (3.2.0)\n"
     ]
    }
   ],
   "source": [
    "! pip install scikit-learn"
   ]
  },
  {
   "cell_type": "code",
   "execution_count": 9,
   "id": "87b079f0-2f77-42ee-a86e-c1023ffba71d",
   "metadata": {},
   "outputs": [
    {
     "name": "stdout",
     "output_type": "stream",
     "text": [
      "Collecting imutils\n",
      "  Downloading imutils-0.5.4.tar.gz (17 kB)\n",
      "  Preparing metadata (setup.py): started\n",
      "  Preparing metadata (setup.py): finished with status 'done'\n",
      "Building wheels for collected packages: imutils\n",
      "  Building wheel for imutils (setup.py): started\n",
      "  Building wheel for imutils (setup.py): finished with status 'done'\n",
      "  Created wheel for imutils: filename=imutils-0.5.4-py3-none-any.whl size=25870 sha256=01e8a2c61012a43747c2535961720791deb6c3b821c5b13a908a2add9047fd90\n",
      "  Stored in directory: c:\\users\\deepa\\appdata\\local\\pip\\cache\\wheels\\85\\cf\\3a\\e265e975a1e7c7e54eb3692d6aa4e2e7d6a3945d29da46f2d7\n",
      "Successfully built imutils\n",
      "Installing collected packages: imutils\n",
      "Successfully installed imutils-0.5.4\n"
     ]
    }
   ],
   "source": [
    "! pip install imutils"
   ]
  },
  {
   "cell_type": "code",
   "execution_count": 9,
   "id": "8acf46b1",
   "metadata": {},
   "outputs": [],
   "source": [
    "from keras.optimizers import RMSprop\n",
    "from keras.preprocessing.image import ImageDataGenerator\n",
    "import cv2\n",
    "from keras.models import Sequential\n",
    "from keras.layers import Conv2D, Input, ZeroPadding2D, BatchNormalization, Activation, MaxPooling2D, Flatten, Dense,Dropout\n",
    "from keras.models import Model, load_model\n",
    "from keras.callbacks import TensorBoard, ModelCheckpoint\n",
    "from sklearn.model_selection import train_test_split\n",
    "from sklearn.metrics import f1_score\n",
    "from sklearn.utils import shuffle\n",
    "import imutils\n",
    "import numpy as np\n"
   ]
  },
  {
   "cell_type": "code",
   "execution_count": 16,
   "id": "a57a2286-3a19-4589-8201-7433cb1abb9b",
   "metadata": {},
   "outputs": [],
   "source": [
    "model = Sequential([\n",
    "    Conv2D(100, (3,3), activation='relu', input_shape=(150, 150, 3)),\n",
    "    MaxPooling2D(2,2),\n",
    "    \n",
    "    Conv2D(100, (3,3), activation='relu'),\n",
    "    MaxPooling2D(2,2),\n",
    "    \n",
    "    Flatten(),\n",
    "    Dropout(0.5),\n",
    "    Dense(50, activation='relu'),\n",
    "    Dense(2, activation='softmax')\n",
    "])\n",
    "model.compile(optimizer='adam', loss='binary_crossentropy', metrics=['acc'])"
   ]
  },
  {
   "cell_type": "code",
   "execution_count": 10,
   "id": "12d5cc00-8aa5-44f1-b097-ef122e64dc82",
   "metadata": {},
   "outputs": [
    {
     "name": "stdout",
     "output_type": "stream",
     "text": [
      "Found 1316 images belonging to 2 classes.\n",
      "Found 194 images belonging to 2 classes.\n"
     ]
    }
   ],
   "source": [
    "TRAINING_DIR = r\"C:\\Users\\deepa\\Documents\\jupyter_mask_detection_project\\train\"\n",
    "train_datagen = ImageDataGenerator(rescale=1.0/255,\n",
    "                                   rotation_range=40,\n",
    "                                   width_shift_range=0.2,\n",
    "                                   height_shift_range=0.2,\n",
    "                                   shear_range=0.2,\n",
    "                                   zoom_range=0.2,\n",
    "                                   horizontal_flip=True,\n",
    "                                   fill_mode='nearest')\n",
    "\n",
    "train_generator = train_datagen.flow_from_directory(TRAINING_DIR, \n",
    "                                                    batch_size=10, \n",
    "                                                    target_size=(150, 150))\n",
    "VALIDATION_DIR = r\"C:\\Users\\deepa\\Documents\\jupyter_mask_detection_project\\test\"\n",
    "validation_datagen = ImageDataGenerator(rescale=1.0/255)\n",
    "\n",
    "validation_generator = validation_datagen.flow_from_directory(VALIDATION_DIR, \n",
    "                                                         batch_size=10, \n",
    "                                                         target_size=(150, 150))"
   ]
  },
  {
   "cell_type": "code",
   "execution_count": 17,
   "id": "3badb92f-68be-4030-8cad-ef4b52b68df5",
   "metadata": {},
   "outputs": [],
   "source": [
    "checkpoint = ModelCheckpoint('model2-{epoch:03d}.model',monitor='val_loss',verbose=0,save_best_only=True,mode='auto')"
   ]
  },
  {
   "cell_type": "code",
   "execution_count": 13,
   "id": "1151f8a9-2909-411f-ad7d-5aa92217cbd4",
   "metadata": {},
   "outputs": [
    {
     "name": "stdout",
     "output_type": "stream",
     "text": [
      "Requirement already satisfied: scipy in c:\\users\\deepa\\appdata\\local\\programs\\python\\python310\\lib\\site-packages (1.11.2)\n",
      "Requirement already satisfied: numpy<1.28.0,>=1.21.6 in c:\\users\\deepa\\appdata\\local\\programs\\python\\python310\\lib\\site-packages (from scipy) (1.25.2)\n"
     ]
    }
   ],
   "source": [
    "! pip install scipy"
   ]
  },
  {
   "cell_type": "code",
   "execution_count": 19,
   "id": "9208ab91-7d47-4b8e-808b-3e7ea76dbc6f",
   "metadata": {},
   "outputs": [
    {
     "name": "stdout",
     "output_type": "stream",
     "text": [
      "Epoch 1/25\n"
     ]
    },
    {
     "name": "stderr",
     "output_type": "stream",
     "text": [
      "C:\\Users\\deepa\\AppData\\Local\\Temp\\ipykernel_21108\\3841497433.py:1: UserWarning: `Model.fit_generator` is deprecated and will be removed in a future version. Please use `Model.fit`, which supports generators.\n",
      "  history = model.fit_generator(train_generator,\n"
     ]
    },
    {
     "name": "stdout",
     "output_type": "stream",
     "text": [
      "132/132 [==============================] - 38s 288ms/step - loss: 0.2148 - acc: 0.9263 - val_loss: 0.0674 - val_acc: 0.9845\n",
      "Epoch 2/25\n",
      "132/132 [==============================] - 48s 363ms/step - loss: 0.1659 - acc: 0.9453 - val_loss: 0.0564 - val_acc: 0.9845\n",
      "Epoch 3/25\n",
      "132/132 [==============================] - ETA: 0s - loss: 0.1570 - acc: 0.9552INFO:tensorflow:Assets written to: model2-003.model\\assets\n"
     ]
    },
    {
     "name": "stderr",
     "output_type": "stream",
     "text": [
      "INFO:tensorflow:Assets written to: model2-003.model\\assets\n"
     ]
    },
    {
     "name": "stdout",
     "output_type": "stream",
     "text": [
      "132/132 [==============================] - 47s 352ms/step - loss: 0.1570 - acc: 0.9552 - val_loss: 0.0362 - val_acc: 0.9845\n",
      "Epoch 4/25\n",
      "132/132 [==============================] - ETA: 0s - loss: 0.1722 - acc: 0.9362INFO:tensorflow:Assets written to: model2-004.model\\assets\n"
     ]
    },
    {
     "name": "stderr",
     "output_type": "stream",
     "text": [
      "INFO:tensorflow:Assets written to: model2-004.model\\assets\n"
     ]
    },
    {
     "name": "stdout",
     "output_type": "stream",
     "text": [
      "132/132 [==============================] - 46s 351ms/step - loss: 0.1722 - acc: 0.9362 - val_loss: 0.0314 - val_acc: 0.9897\n",
      "Epoch 5/25\n",
      "132/132 [==============================] - 45s 340ms/step - loss: 0.1521 - acc: 0.9483 - val_loss: 0.1520 - val_acc: 0.9433\n",
      "Epoch 6/25\n",
      "132/132 [==============================] - 47s 353ms/step - loss: 0.1601 - acc: 0.9392 - val_loss: 0.1611 - val_acc: 0.9381\n",
      "Epoch 7/25\n",
      "132/132 [==============================] - 48s 362ms/step - loss: 0.1469 - acc: 0.9514 - val_loss: 0.0971 - val_acc: 0.9639\n",
      "Epoch 8/25\n",
      "132/132 [==============================] - 48s 365ms/step - loss: 0.1493 - acc: 0.9491 - val_loss: 0.0837 - val_acc: 0.9691\n",
      "Epoch 9/25\n",
      "132/132 [==============================] - 52s 394ms/step - loss: 0.1389 - acc: 0.9476 - val_loss: 0.0681 - val_acc: 0.9691\n",
      "Epoch 10/25\n",
      "132/132 [==============================] - 52s 389ms/step - loss: 0.1250 - acc: 0.9582 - val_loss: 0.0611 - val_acc: 0.9742\n",
      "Epoch 11/25\n",
      "132/132 [==============================] - 50s 382ms/step - loss: 0.1328 - acc: 0.9506 - val_loss: 0.0514 - val_acc: 0.9794\n",
      "Epoch 12/25\n",
      "132/132 [==============================] - ETA: 0s - loss: 0.1261 - acc: 0.9544INFO:tensorflow:Assets written to: model2-012.model\\assets\n"
     ]
    },
    {
     "name": "stderr",
     "output_type": "stream",
     "text": [
      "INFO:tensorflow:Assets written to: model2-012.model\\assets\n"
     ]
    },
    {
     "name": "stdout",
     "output_type": "stream",
     "text": [
      "132/132 [==============================] - 53s 398ms/step - loss: 0.1261 - acc: 0.9544 - val_loss: 0.0186 - val_acc: 0.9897\n",
      "Epoch 13/25\n",
      "132/132 [==============================] - 50s 381ms/step - loss: 0.1403 - acc: 0.9514 - val_loss: 0.0476 - val_acc: 0.9794\n",
      "Epoch 14/25\n",
      "132/132 [==============================] - 51s 382ms/step - loss: 0.1564 - acc: 0.9438 - val_loss: 0.1068 - val_acc: 0.9433\n",
      "Epoch 15/25\n",
      "132/132 [==============================] - 51s 384ms/step - loss: 0.1297 - acc: 0.9514 - val_loss: 0.0397 - val_acc: 0.9845\n",
      "Epoch 16/25\n",
      "132/132 [==============================] - 51s 384ms/step - loss: 0.1429 - acc: 0.9514 - val_loss: 0.0315 - val_acc: 0.9897\n",
      "Epoch 17/25\n",
      "132/132 [==============================] - 53s 404ms/step - loss: 0.1473 - acc: 0.9468 - val_loss: 0.0369 - val_acc: 0.9897\n",
      "Epoch 18/25\n",
      "132/132 [==============================] - 54s 405ms/step - loss: 0.1492 - acc: 0.9498 - val_loss: 0.0347 - val_acc: 0.9845\n",
      "Epoch 19/25\n",
      "132/132 [==============================] - 51s 384ms/step - loss: 0.1247 - acc: 0.9544 - val_loss: 0.0584 - val_acc: 0.9794\n",
      "Epoch 20/25\n",
      "132/132 [==============================] - 51s 382ms/step - loss: 0.1142 - acc: 0.9628 - val_loss: 0.0554 - val_acc: 0.9794\n",
      "Epoch 21/25\n",
      "132/132 [==============================] - 51s 383ms/step - loss: 0.1502 - acc: 0.9506 - val_loss: 0.1064 - val_acc: 0.9433\n",
      "Epoch 22/25\n",
      "132/132 [==============================] - 51s 386ms/step - loss: 0.1492 - acc: 0.9445 - val_loss: 0.0500 - val_acc: 0.9845\n",
      "Epoch 23/25\n",
      "132/132 [==============================] - 50s 381ms/step - loss: 0.1351 - acc: 0.9574 - val_loss: 0.0293 - val_acc: 0.9897\n",
      "Epoch 24/25\n",
      "132/132 [==============================] - 51s 383ms/step - loss: 0.1258 - acc: 0.9498 - val_loss: 0.2501 - val_acc: 0.9021\n",
      "Epoch 25/25\n",
      "132/132 [==============================] - 50s 375ms/step - loss: 0.1250 - acc: 0.9536 - val_loss: 0.0335 - val_acc: 0.9897\n"
     ]
    }
   ],
   "source": [
    "history = model.fit_generator(train_generator,\n",
    "                              epochs=25,\n",
    "                              validation_data=validation_generator,\n",
    "                              callbacks=[checkpoint])"
   ]
  }
 ],
 "metadata": {
  "kernelspec": {
   "display_name": "Python 3 (ipykernel)",
   "language": "python",
   "name": "python3"
  },
  "language_info": {
   "codemirror_mode": {
    "name": "ipython",
    "version": 3
   },
   "file_extension": ".py",
   "mimetype": "text/x-python",
   "name": "python",
   "nbconvert_exporter": "python",
   "pygments_lexer": "ipython3",
   "version": "3.10.1"
  }
 },
 "nbformat": 4,
 "nbformat_minor": 5
}
